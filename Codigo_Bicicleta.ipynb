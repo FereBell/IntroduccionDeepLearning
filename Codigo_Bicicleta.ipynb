{
  "nbformat": 4,
  "nbformat_minor": 0,
  "metadata": {
    "colab": {
      "name": "Codigo_Bicicleta.ipynb",
      "provenance": [],
      "authorship_tag": "ABX9TyPKU4AZ9wgwr0RB7ZGUAlv4",
      "include_colab_link": true
    },
    "kernelspec": {
      "display_name": "Python 3",
      "name": "python3"
    },
    "language_info": {
      "name": "python"
    }
  },
  "cells": [
    {
      "cell_type": "markdown",
      "metadata": {
        "id": "view-in-github",
        "colab_type": "text"
      },
      "source": [
        "<a href=\"https://colab.research.google.com/github/FereBell/IntroduccionDeepLearning/blob/master/Codigo_Bicicleta.ipynb\" target=\"_parent\"><img src=\"https://colab.research.google.com/assets/colab-badge.svg\" alt=\"Open In Colab\"/></a>"
      ]
    },
    {
      "cell_type": "markdown",
      "metadata": {
        "id": "6eH8gx73u3py"
      },
      "source": [
        "## Librerias necesarias para el código"
      ]
    },
    {
      "cell_type": "code",
      "metadata": {
        "id": "wBo6j9rEKoup"
      },
      "source": [
        "import tensorflow as tf\n",
        "from tensorflow.keras import layers\n",
        "import pandas as pd\n",
        "import numpy as np\n",
        "import csv"
      ],
      "execution_count": null,
      "outputs": []
    },
    {
      "cell_type": "code",
      "metadata": {
        "id": "fXTEEjFerrOX"
      },
      "source": [
        "# Importando la base de datos a Colab\n",
        "from google.colab import files\n",
        "files.upload()"
      ],
      "execution_count": null,
      "outputs": []
    },
    {
      "cell_type": "code",
      "metadata": {
        "id": "9WPdkt-yrob_"
      },
      "source": [
        "# Pasando los archivos\n",
        "def obt_datos(path_entre, path_salida):\n",
        "    ent = pd.read_csv(path_entre)\n",
        "\n",
        "    sal = pd.read_csv(path_salida)\n",
        "    \n",
        "    return ent, sal\n",
        "\n",
        "datos_ent, datos_sal= obt_datos('Entrada.csv', 'Salida.csv')"
      ],
      "execution_count": null,
      "outputs": []
    },
    {
      "cell_type": "markdown",
      "metadata": {
        "id": "-9mfHD3PxVsf"
      },
      "source": [
        "## Descripción de la base de datos\n",
        "\n",
        "\n",
        "\n",
        "* Season: 1_Primavera, 2_Verano, 3_Otoño, 4_Invierno\n",
        "\n",
        "\n",
        "* Mes: 1 al 12\n",
        "\n",
        "* Hr: 0 a 23\n",
        "\n",
        "* Holiday: 0 o 1 es o no día feriado\n",
        "\n",
        "* Weekday: Día de la semana 0 a 6\n",
        "\n",
        "* Workingday: Si es fin de semana o feriado 0 de otro modo 1\n",
        "\n",
        "* Weathersit:\n",
        "  - 1 (Cielo limpio, pocas nubes, etc)\n",
        "  - 2 (Nublado)\n",
        "  - 3 (Rayos, poca lluvia) \n",
        "  - 4 (Lluvia fuerte, tormenta o nevando)\n",
        "\n",
        "* Temp: Temperatura en Celcius\n",
        "\n",
        "* Atemp: Sensación termina en Celcius\n",
        "\n",
        "* Hum: Humedad normalizada de 0 a 100\n",
        "\n",
        "* Windspeed: Velocidad del viento normalizado de 0 a 67"
      ]
    },
    {
      "cell_type": "code",
      "metadata": {
        "id": "Wt2ZFgt30fwS"
      },
      "source": [
        "# Mostrando DataFrame de los datos\n",
        "datos_ent"
      ],
      "execution_count": null,
      "outputs": []
    },
    {
      "cell_type": "markdown",
      "metadata": {
        "id": "v5oDihBi2xup"
      },
      "source": [
        "### Se convierten los datos en arreglo con numpy "
      ]
    },
    {
      "cell_type": "code",
      "metadata": {
        "id": "zcwZKI6C1ntF"
      },
      "source": [
        "mat_entrada = datos_ent.to_numpy()\n",
        "mat_salida = datos_sal.to_numpy()"
      ],
      "execution_count": null,
      "outputs": []
    },
    {
      "cell_type": "code",
      "metadata": {
        "id": "n3juyAkTL-po"
      },
      "source": [
        "# Dividimos los datos para entrenamiento y validación\n",
        "def separacion_datos(ent, sal):\n",
        "  ent_e= ent[:round(len(ent)*.9)-1]\n",
        "  ent_s= sal[:round(len(sal)*.9)-1]\n",
        "  \n",
        "  val_e= ent[round(len(ent)*.9)-1:]\n",
        "  val_s= sal[round(len(sal)*.9)-1:]\n",
        "\n",
        "  return ent_e, ent_s, val_e, val_s\n",
        "  "
      ],
      "execution_count": null,
      "outputs": []
    },
    {
      "cell_type": "code",
      "metadata": {
        "id": "06-CImmBNpZ-"
      },
      "source": [
        "ent_e, ent_s, val_e, val_s= separacion_datos(mat_entrada, mat_salida)"
      ],
      "execution_count": null,
      "outputs": []
    },
    {
      "cell_type": "code",
      "metadata": {
        "id": "m7H9ZSLhJQQK"
      },
      "source": [
        "# Diseño de la red\n",
        "tam_entrada= layers.Input(shape= (ent_e.shape[1]))\n",
        "x= layers.Dense(128, activation= 'relu')(tam_entrada)\n",
        "x= layers.Dense(254, activation= 'relu')(x)\n",
        "x= layers.Dense(512, activation= 'relu')(x)\n",
        "salida= layers.Dense(1, activation= 'sigmoid')(x)\n",
        "\n",
        "model= tf.keras.Model(inputs= tam_entrada, outputs= salida)\n",
        "\n",
        "model.compile(optimizer='rmsprop', loss= 'binary_crossentropy', metrics= 'accuracy')"
      ],
      "execution_count": null,
      "outputs": []
    },
    {
      "cell_type": "code",
      "metadata": {
        "id": "UYL7x2UcLdMr"
      },
      "source": [
        "# Comenzamos el entrenamiento\n",
        "model.fit(ent_e, ent_s, batch_size=64, epochs= 200, validation_data= (val_e, val_s))"
      ],
      "execution_count": null,
      "outputs": []
    },
    {
      "cell_type": "code",
      "metadata": {
        "id": "ZAjaRj8fMzVV"
      },
      "source": [
        ""
      ],
      "execution_count": null,
      "outputs": []
    }
  ]
}