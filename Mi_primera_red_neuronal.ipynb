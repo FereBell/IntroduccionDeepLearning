{
  "nbformat": 4,
  "nbformat_minor": 0,
  "metadata": {
    "colab": {
      "name": "Mi primera red neuronal.ipynb",
      "provenance": [],
      "authorship_tag": "ABX9TyOvqxUs6oZ9swAk49+wUBsp",
      "include_colab_link": true
    },
    "kernelspec": {
      "name": "python3",
      "display_name": "Python 3"
    }
  },
  "cells": [
    {
      "cell_type": "markdown",
      "metadata": {
        "id": "view-in-github",
        "colab_type": "text"
      },
      "source": [
        "<a href=\"https://colab.research.google.com/github/FereBell/IntroduccionDeepLearning/blob/master/Mi_primera_red_neuronal.ipynb\" target=\"_parent\"><img src=\"https://colab.research.google.com/assets/colab-badge.svg\" alt=\"Open In Colab\"/></a>"
      ]
    },
    {
      "cell_type": "code",
      "metadata": {
        "id": "BYR65QV6iwiV"
      },
      "source": [
        "import os\r\n",
        "import shutil\r\n",
        "\r\n",
        "datos_original_c= 'E:/Base de datos/B/Cat'\r\n",
        "datos_original_d= 'E:/Base de datos/B/Dog'\r\n",
        "\r\n",
        "\r\n",
        "base_n= 'E:/Base de datos/B/PG'\r\n",
        "os.mkdir(base_n)\r\n",
        "\r\n",
        "entrenamiento= os.path.join(base_n, 'datos_entrenamiento')\r\n",
        "os.mkdir(entrenamiento)\r\n",
        "validacion= os.path.join(base_n, 'datos_validacion')\r\n",
        "os.mkdir(validacion)\r\n",
        "\r\n",
        "ent_gatos= os.path.join(entrenamiento, 'gatos')\r\n",
        "os.mkdir(ent_gatos)\r\n",
        "ent_perros= os.path.join(entrenamiento, 'perros')\r\n",
        "os.mkdir(ent_perros)\r\n",
        "\r\n",
        "val_gatos= os.path.join(validacion, 'gatos')\r\n",
        "os.mkdir(val_gatos)\r\n",
        "val_perros= os.path.join(validacion, 'perros')\r\n",
        "os.mkdir(val_perros)\r\n",
        "\r\n",
        "cnombs= ['{}.jpg' .format(i) for i in range(10000)]\r\n",
        "dnombs= ['{}.jpg' .format(i) for i in range(10000)]\r\n",
        "for fnomb, gnomb in zip(cnombs, dnombs):\r\n",
        "    \r\n",
        "    if gnomb != '666.jpg':\r\n",
        "        fc= os.path.join(datos_original_c, fnomb)\r\n",
        "        dc= os.path.join(ent_gatos, fnomb)\r\n",
        "        shutil.copyfile(fc, dc)\r\n",
        "    \r\n",
        "        fd= os.path.join(datos_original_d, gnomb)\r\n",
        "        dd= os.path.join(ent_perros, gnomb)\r\n",
        "        shutil.copyfile(fd, dd)\r\n",
        "\r\n",
        "cnombs= ['{}.jpg' .format(i) for i in range(10000, 12000)]\r\n",
        "dnombs= ['{}.jpg' .format(i) for i in range(10000, 12000)]\r\n",
        "for fnomb, gnomb in zip(cnombs, dnombs):\r\n",
        "    \r\n",
        "    if gnomb != '11702.jpg':\r\n",
        "        fc= os.path.join(datos_original_c, fnomb)\r\n",
        "        dc= os.path.join(val_gatos, fnomb)\r\n",
        "        shutil.copyfile(fc, dc)\r\n",
        "    \r\n",
        "        fd= os.path.join(datos_original_d, gnomb)\r\n",
        "        dd= os.path.join(val_perros, gnomb)\r\n",
        "        shutil.copyfile(fd, dd)"
      ],
      "execution_count": null,
      "outputs": []
    }
  ]
}