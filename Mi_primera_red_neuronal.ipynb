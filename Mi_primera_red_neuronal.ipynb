{
  "nbformat": 4,
  "nbformat_minor": 0,
  "metadata": {
    "colab": {
      "name": "Mi primera red neuronal.ipynb",
      "provenance": [],
      "collapsed_sections": [],
      "authorship_tag": "ABX9TyPq/MOx6ViWkHXpH1tSf3oY",
      "include_colab_link": true
    },
    "kernelspec": {
      "name": "python3",
      "display_name": "Python 3"
    }
  },
  "cells": [
    {
      "cell_type": "markdown",
      "metadata": {
        "id": "view-in-github",
        "colab_type": "text"
      },
      "source": [
        "<a href=\"https://colab.research.google.com/github/FereBell/IntroduccionDeepLearning/blob/master/Mi_primera_red_neuronal.ipynb\" target=\"_parent\"><img src=\"https://colab.research.google.com/assets/colab-badge.svg\" alt=\"Open In Colab\"/></a>"
      ]
    },
    {
      "cell_type": "markdown",
      "metadata": {
        "id": "znDZYPFdkg8p"
      },
      "source": [
        "# Nueva sección"
      ]
    },
    {
      "cell_type": "code",
      "metadata": {
        "id": "BYR65QV6iwiV"
      },
      "source": [
        "import os\r\n",
        "import shutil\r\n",
        "\r\n",
        "datos_original_c= 'E:/Base de datos/B/Cat'\r\n",
        "datos_original_d= 'E:/Base de datos/B/Dog'\r\n",
        "\r\n",
        "\r\n",
        "base_n= 'E:/Base de datos/B/PG'\r\n",
        "os.mkdir(base_n)\r\n",
        "\r\n",
        "entrenamiento= os.path.join(base_n, 'datos_entrenamiento')\r\n",
        "os.mkdir(entrenamiento)\r\n",
        "validacion= os.path.join(base_n, 'datos_validacion')\r\n",
        "os.mkdir(validacion)\r\n",
        "\r\n",
        "ent_gatos= os.path.join(entrenamiento, 'gatos')\r\n",
        "os.mkdir(ent_gatos)\r\n",
        "ent_perros= os.path.join(entrenamiento, 'perros')\r\n",
        "os.mkdir(ent_perros)\r\n",
        "\r\n",
        "val_gatos= os.path.join(validacion, 'gatos')\r\n",
        "os.mkdir(val_gatos)\r\n",
        "val_perros= os.path.join(validacion, 'perros')\r\n",
        "os.mkdir(val_perros)\r\n",
        "\r\n",
        "cnombs= ['{}.jpg' .format(i) for i in range(10000)]\r\n",
        "dnombs= ['{}.jpg' .format(i) for i in range(10000)]\r\n",
        "for fnomb, gnomb in zip(cnombs, dnombs):\r\n",
        "    \r\n",
        "    if gnomb != '666.jpg':\r\n",
        "        fc= os.path.join(datos_original_c, fnomb)\r\n",
        "        dc= os.path.join(ent_gatos, fnomb)\r\n",
        "        shutil.copyfile(fc, dc)\r\n",
        "    \r\n",
        "        fd= os.path.join(datos_original_d, gnomb)\r\n",
        "        dd= os.path.join(ent_perros, gnomb)\r\n",
        "        shutil.copyfile(fd, dd)\r\n",
        "\r\n",
        "cnombs= ['{}.jpg' .format(i) for i in range(10000, 12000)]\r\n",
        "dnombs= ['{}.jpg' .format(i) for i in range(10000, 12000)]\r\n",
        "for fnomb, gnomb in zip(cnombs, dnombs):\r\n",
        "    \r\n",
        "    if gnomb != '11702.jpg':\r\n",
        "        fc= os.path.join(datos_original_c, fnomb)\r\n",
        "        dc= os.path.join(val_gatos, fnomb)\r\n",
        "        shutil.copyfile(fc, dc)\r\n",
        "    \r\n",
        "        fd= os.path.join(datos_original_d, gnomb)\r\n",
        "        dd= os.path.join(val_perros, gnomb)\r\n",
        "        shutil.copyfile(fd, dd)"
      ],
      "execution_count": null,
      "outputs": []
    },
    {
      "cell_type": "markdown",
      "metadata": {
        "id": "rlJfTqD2kKGv"
      },
      "source": [
        "## Arquitectura de la red convolucional"
      ]
    },
    {
      "cell_type": "code",
      "metadata": {
        "id": "73z5tXN9jXfD"
      },
      "source": [
        "import tensorflow as tf\r\n",
        "from tensorflow.keras.preprocessing.image import ImageDataGenerator\r\n",
        "from tensorflow.keras import optimizers, regularizers, models, layers\r\n",
        "\r\n",
        "model = models.Sequential()\r\n",
        "\r\n",
        "model.add(layers.Conv2D(32, (3, 3), activation='relu', input_shape=(300, 300, 1)))\r\n",
        "model.add(layers.MaxPooling2D((2, 2)))\r\n",
        "model.add(layers.BatchNormalization())\r\n",
        "\r\n",
        "model.add(layers.Conv2D(64, (3, 3), activation='relu'))\r\n",
        "model.add(layers.MaxPooling2D((2, 2)))\r\n",
        "model.add(layers.BatchNormalization())\r\n",
        "\r\n",
        "model.add(layers.Conv2D(128, (3, 3), activation='relu'))\r\n",
        "model.add(layers.MaxPooling2D((2, 2)))\r\n",
        "model.add(layers.BatchNormalization())\r\n",
        "\r\n",
        "model.add(layers.Conv2D(254, (3, 3), activation='relu'))\r\n",
        "model.add(layers.MaxPooling2D((2, 2)))\r\n",
        "model.add(layers.BatchNormalization())\r\n",
        "model.add(layers.Dropout(0.3))\r\n",
        "\r\n",
        "model.add(layers.Conv2D(254, (2, 2), activation='relu'))\r\n",
        "model.add(layers.MaxPooling2D((2, 2)))\r\n",
        "model.add(layers.BatchNormalization())\r\n",
        "model.add(layers.Dropout(0.3))\r\n",
        "\r\n",
        "model.add(layers.Conv2D(512, (3, 3), activation='relu'))\r\n",
        "model.add(layers.MaxPooling2D((2, 2)))\r\n",
        "model.add(layers.BatchNormalization())\r\n",
        "\r\n",
        "model.add(layers.Dropout(0.5))\r\n",
        "\r\n",
        "model.add(layers.Flatten())\r\n",
        "model.add(layers.Dense(1024, activation='relu'))\r\n",
        "model.add(layers.Dense(1, activation='sigmoid'))"
      ],
      "execution_count": null,
      "outputs": []
    },
    {
      "cell_type": "markdown",
      "metadata": {
        "id": "rCX_Hbw7j9BZ"
      },
      "source": [
        "## Alimentación de la red y entrenameinto"
      ]
    },
    {
      "cell_type": "code",
      "metadata": {
        "id": "QDuGQ2Q9jZyc"
      },
      "source": [
        "entrenamiento_dir= 'E:/Base de datos/BS/PG/datos_entrenamiento'\r\n",
        "validacion_dir= 'E:/Base de datos/BS/PG/datos_validacion'\r\n",
        "\r\n",
        "\r\n",
        "ent_datagen = ImageDataGenerator(rescale=1./255)\r\n",
        "val_datagen = ImageDataGenerator(rescale=1./255)\r\n",
        "\r\n",
        "ent_gen = ent_datagen.flow_from_directory(entrenamiento_dir,\r\n",
        "                                          target_size=(300, 300),\r\n",
        "                                          batch_size=32,\r\n",
        "                                          class_mode='binary',\r\n",
        "                                          shuffle=True,\r\n",
        "                                          color_mode='grayscale')\r\n",
        "\r\n",
        "val_gen = val_datagen.flow_from_directory(validacion_dir,\r\n",
        "                                          target_size=(300, 300),\r\n",
        "                                          batch_size=32,\r\n",
        "                                          class_mode='binary',\r\n",
        "                                          shuffle=True,\r\n",
        "                                          color_mode='grayscale')\r\n",
        "\r\n",
        "history = model.fit(ent_gen,\r\n",
        "                    steps_per_epoch=624,\r\n",
        "                    epochs=30,\r\n",
        "                    validation_data=val_gen,\r\n",
        "                    validation_steps=124)"
      ],
      "execution_count": null,
      "outputs": []
    },
    {
      "cell_type": "markdown",
      "metadata": {
        "id": "n73xVjrCkC9N"
      },
      "source": [
        "# Revision de la exactitud y perdida, durante el entrenameinto"
      ]
    },
    {
      "cell_type": "code",
      "metadata": {
        "id": "M4dC0UAsjZ7o"
      },
      "source": [
        "import matplotlib.pyplot as plt\r\n",
        "\r\n",
        "exac = history.history['acc']\r\n",
        "val_exac = history.history['val_acc']\r\n",
        "\r\n",
        "loss = history.history['loss']\r\n",
        "val_loss = history.history['val_loss']\r\n",
        "\r\n",
        "epochs = range(1, len(exac) + 1)\r\n",
        "plt.plot(epochs, exac, 'bo', label='Entrenamiento exac')\r\n",
        "plt.plot(epochs, val_exac, 'b', label='Validación exac')\r\n",
        "plt.title('Exactitud en el entrenamiento y validación')\r\n",
        "plt.legend()\r\n",
        "plt.figure()\r\n",
        "plt.plot(epochs, loss, 'bo', label='Entrenamiento loss')\r\n",
        "plt.plot(epochs, val_loss, 'b', label='Validación loss')\r\n",
        "plt.title('Entrenamiento y validación loss')\r\n",
        "plt.legend()\r\n",
        "plt.show()"
      ],
      "execution_count": null,
      "outputs": []
    },
    {
      "cell_type": "markdown",
      "metadata": {
        "id": "WPbCzSqtkZB6"
      },
      "source": [
        "# Prueba de la red con imagnes personales"
      ]
    },
    {
      "cell_type": "code",
      "metadata": {
        "id": "qFXHx1hPjZ_B"
      },
      "source": [
        "import numpy as np\r\n",
        "import cv2 as cv\r\n",
        "\r\n",
        "t= 'E:/Base de datos/BS/kp.jpeg'\r\n",
        "#t= 'E:/Base de datos/BS/michi.jpeg'\r\n",
        "\r\n",
        "img_array = cv.cvtColor(cv.resize(cv.imread(t),(300,300)),cv.COLOR_BGR2GRAY)\r\n",
        "img_array= img_array/255.0\r\n",
        "new_array= np.array(img_array).reshape(-1,300,300,1)\r\n",
        "\r\n",
        "plt.imshow(new_array[0], cmap='gray')\r\n",
        "plt.show()\r\n",
        "\r\n",
        "val_preds = model.predict(new_array)\r\n",
        "val_preds= np.around(val_preds)\r\n",
        "\r\n",
        "if val_preds== 0:\r\n",
        "    print(\"En la imagen hay un gato\")\r\n",
        "else:\r\n",
        "    print(\"En la imagen hay un perro\")"
      ],
      "execution_count": null,
      "outputs": []
    }
  ]
}